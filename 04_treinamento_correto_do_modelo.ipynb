{
  "nbformat": 4,
  "nbformat_minor": 0,
  "metadata": {
    "colab": {
      "provenance": []
    },
    "kernelspec": {
      "name": "python3",
      "display_name": "Python 3"
    },
    "language_info": {
      "name": "python"
    }
  },
  "cells": [
    {
      "cell_type": "markdown",
      "source": [
        "\n",
        "\n",
        "# Import libraries\n",
        "\n"
      ],
      "metadata": {
        "id": "yf8IZIBwwsE0"
      }
    },
    {
      "cell_type": "code",
      "execution_count": null,
      "metadata": {
        "id": "EU8OkYrEwmmy"
      },
      "outputs": [],
      "source": [
        "\n",
        "import numpy as np\n",
        "from sklearn import datasets as ds\n",
        "from sklearn import tree as tr\n",
        "from sklearn import metrics as mt\n",
        "from sklearn import model_selection as ms\n",
        "from matplotlib import pyplot as plt\n"
      ]
    },
    {
      "cell_type": "markdown",
      "source": [
        "## Dados Sintéticos"
      ],
      "metadata": {
        "id": "EODndHPSxPqK"
      }
    },
    {
      "cell_type": "code",
      "source": [
        "## Dados sintéticos para produção\n",
        "n_samples = 20000\n",
        "n_features = 2\n",
        "n_informative = 2\n",
        "n_redundant = 0\n",
        "random_state = 0\n",
        "\n",
        "# Dados para treinamento\n",
        "X, y = ds.make_classification(  n_samples=n_samples,\n",
        "                                n_features=n_features,\n",
        "                                n_informative=n_informative,\n",
        "                                n_redundant=n_redundant,\n",
        "                                random_state=random_state )\n",
        "\n",
        "\n",
        "# Dados para produção\n",
        "'''\n",
        "Aqui está separando os dados em 80% para treinamento e 20% para produção ( onde será testado o modelo com dados próximo do real )\n",
        "'''\n",
        "X, X_prod, y, y_prod = ms.train_test_split( X, y, test_size=0.2 )\n",
        "\n"
      ],
      "metadata": {
        "id": "FlJfhFHNxI3Z"
      },
      "execution_count": null,
      "outputs": []
    },
    {
      "cell_type": "markdown",
      "source": [
        "# 1.0 Treinamento da forma errada"
      ],
      "metadata": {
        "id": "Ze1_SsWfxLjR"
      }
    },
    {
      "cell_type": "markdown",
      "source": [
        "## Não há separação dos Dados"
      ],
      "metadata": {
        "id": "xhd-U74oyKxp"
      }
    },
    {
      "cell_type": "code",
      "source": [
        "\n",
        "# Modelo treinado e validado com o dataset de Treinamento\n",
        "model = tr.DecisionTreeClassifier( max_depth=38 ) # Aqui está passando o parâmetro max_depth=38 para o modelo\n",
        "\n",
        "model.fit( X, y ) # Aqui está treinando o modelo\n",
        "\n",
        "# Previsão sobre os dados de treinamento\n",
        "yhat = model.predict( X ) # Aqui está fazendo a previsão sobre os dados de treinamento\n",
        "\n",
        "acc  = mt.accuracy_score( y, yhat ) # Aqui está calculando a acurácia do modelo sobre os dados de treinamento\n",
        "print( \"Accuracy Over Training: {}\".format( acc ) )\n",
        "print('O modelo está com uma acurácio de 100%, porque ele não está aprendendo nada, ele está sendo treinado e validado com o mesmo conjunto de dado.')"
      ],
      "metadata": {
        "colab": {
          "base_uri": "https://localhost:8080/"
        },
        "id": "Rc11ePpbyA8G",
        "outputId": "506e8796-0420-4805-d6b6-b04276ee6737"
      },
      "execution_count": null,
      "outputs": [
        {
          "output_type": "stream",
          "name": "stdout",
          "text": [
            "Accuracy Over Training: 1.0\n",
            "O modelo está com uma acurácio de 100%, porque ele não está aprendendo nada, ele está sendo treinado e validado com o mesmo conjunto de dado.\n"
          ]
        }
      ]
    },
    {
      "cell_type": "markdown",
      "source": [
        "## Publicação do Modelo em Produção"
      ],
      "metadata": {
        "id": "MmogV5O_0LMV"
      }
    },
    {
      "cell_type": "code",
      "source": [
        "y_prod_hat = model.predict( X_prod ) # Aqui está fazendo a previsão sobre os dados de produção\n",
        "acc  = mt.accuracy_score( y_prod, y_prod_hat ) # Aqui está calculando a acurácia do modelo sobre os dados de produção\n",
        "print( \"Accuracy Over Production: {}\".format( acc ) )\n",
        "print('Caiu a performance do modelo de 100% para 84%, porque ele está sendo treinado e validado com o mesmo conjunto de dado.')"
      ],
      "metadata": {
        "colab": {
          "base_uri": "https://localhost:8080/"
        },
        "id": "Njpdp6a40OCK",
        "outputId": "db09890b-5070-4786-c64e-4efe34d67bfb"
      },
      "execution_count": null,
      "outputs": [
        {
          "output_type": "stream",
          "name": "stdout",
          "text": [
            "Accuracy Over Production: 0.8455\n",
            "Caiu a performance do modelo de 100% para 84%, porque ele está sendo treinado e validado com o mesmo conjunto de dado.\n"
          ]
        }
      ]
    },
    {
      "cell_type": "markdown",
      "source": [
        "# 2.0 Treinamento com a Estatégia TREINO - TESTE"
      ],
      "metadata": {
        "id": "ctG-iCBmzpD1"
      }
    },
    {
      "cell_type": "markdown",
      "source": [
        "## Separando os dados entre Treino e Teste"
      ],
      "metadata": {
        "id": "Psl241v70tq1"
      }
    },
    {
      "cell_type": "code",
      "source": [
        "# Aqui está separando os dados em 80% para treinamento( X_train e y_train ) e\n",
        "# 20% para teste ( X_test e y_test )\n",
        "\n",
        "X_train, X_test, y_train, y_test = ms.train_test_split(  X, y, test_size=0.2, random_state=random_state )"
      ],
      "metadata": {
        "id": "vd_y8l1o0ISr"
      },
      "execution_count": null,
      "outputs": []
    },
    {
      "cell_type": "markdown",
      "source": [
        "## Modelo Treinado e validado com dados de Treinamento"
      ],
      "metadata": {
        "id": "9Ra6MIrE1XZ_"
      }
    },
    {
      "cell_type": "code",
      "source": [
        "# Aqui está passando o parâmetro max_depth=38 para o modelo\n",
        "model = tr.DecisionTreeClassifier( max_depth= 38 )\n",
        "\n",
        "# Aqui está treinando o modelo com os dados de treinamento\n",
        "model = model.fit( X_train, y_train )"
      ],
      "metadata": {
        "id": "djhZUYXEz5mS"
      },
      "execution_count": null,
      "outputs": []
    },
    {
      "cell_type": "markdown",
      "source": [
        "## Previsão sobre os dados de Teste"
      ],
      "metadata": {
        "id": "d4Qjd7my1ysN"
      }
    },
    {
      "cell_type": "code",
      "source": [
        "# Aqui está fazendo a previsão sobre os dados de teste\n",
        "yhat_test = model.predict(X_test )\n",
        "\n",
        "# Aqui está calculando a acurácia do modelo sobre os dados de teste\n",
        "acc_test = mt.accuracy_score( y_test, yhat_test )\n",
        "print( \"Accuracy Over Test: {}\".format( acc_test ) )"
      ],
      "metadata": {
        "colab": {
          "base_uri": "https://localhost:8080/"
        },
        "id": "ff7aJQtX1xmG",
        "outputId": "4fbf52c5-23b4-4003-a0b9-fdc66767eac9"
      },
      "execution_count": null,
      "outputs": [
        {
          "output_type": "stream",
          "name": "stdout",
          "text": [
            "Accuracy Over Test: 0.8571875\n"
          ]
        }
      ]
    },
    {
      "cell_type": "markdown",
      "source": [
        "## Escolha do melhor parâmetro\n"
      ],
      "metadata": {
        "id": "27CV9fep5Bj1"
      }
    },
    {
      "cell_type": "code",
      "source": [
        "values = [ i for i in range(1, 60) ]\n",
        "test_score = list()\n",
        "\n",
        "for i in values:\n",
        "  model = tr.DecisionTreeClassifier( max_depth=i)\n",
        "  model = model.fit(X_train, y_train )\n",
        "\n",
        "  # Previsão sobre os dados de test\n",
        "  yhat_test = model.predict(X_test)\n",
        "  acc_test = mt.accuracy_score( y_test, yhat_test)\n",
        "  test_score.append(acc_test)"
      ],
      "metadata": {
        "id": "_NZ37M8S5JMu"
      },
      "execution_count": null,
      "outputs": []
    },
    {
      "cell_type": "markdown",
      "source": [
        "## plot dos melhores parametros"
      ],
      "metadata": {
        "id": "xoCbqbs46DXk"
      }
    },
    {
      "cell_type": "code",
      "source": [
        "plt.plot( values, test_score, '-o', label='Test Score')\n",
        "plt.xlabel('max_depth')\n",
        "plt.ylabel('Acurracy')\n",
        "plt.show()"
      ],
      "metadata": {
        "colab": {
          "base_uri": "https://localhost:8080/",
          "height": 450
        },
        "id": "6tUz3T737HI2",
        "outputId": "6158d19e-e2a3-4ba9-9d08-ab201da08a7a"
      },
      "execution_count": null,
      "outputs": [
        {
          "output_type": "display_data",
          "data": {
            "text/plain": [
              "<Figure size 640x480 with 1 Axes>"
            ],
            "image/png": "[encoded data removed]"
          },
          "metadata": {}
        }
      ]
    },
    {
      "cell_type": "markdown",
      "source": [
        "## Publicação do modelo em produção"
      ],
      "metadata": {
        "id": "mm4ekbhH7yZG"
      }
    },
    {
      "cell_type": "code",
      "source": [
        "# Modelo de treinamento e validação com o dataset de treinamento\n",
        "model_last = tr.DecisionTreeClassifier( max_depth= 10 ) # melhor parametro encontrado\n",
        "model_last.fit( np.concatenate( ( X_train, X_test) ),\n",
        "                  np.concatenate( (y_train, y_test)) )\n",
        "\n",
        "model_last.fit( X_train, y_train )\n",
        "\n",
        "# Previsão do modelo em Produção\n",
        "yhat_prod = model_last.predict( X_prod )\n",
        "acc_prod = mt.accuracy_score( y_prod, yhat_prod )\n",
        "print( \"Accuracy Over Production: {}\".format( acc_prod ) )"
      ],
      "metadata": {
        "colab": {
          "base_uri": "https://localhost:8080/"
        },
        "id": "jN51dtcT6CjH",
        "outputId": "7bb4104e-fd20-47c1-ffe2-f6a6bf35a057"
      },
      "execution_count": null,
      "outputs": [
        {
          "output_type": "stream",
          "name": "stdout",
          "text": [
            "Accuracy Over Production: 0.87975\n"
          ]
        }
      ]
    }
  ]
}