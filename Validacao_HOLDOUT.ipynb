{
  "nbformat": 4,
  "nbformat_minor": 0,
  "metadata": {
    "colab": {
      "provenance": []
    },
    "kernelspec": {
      "name": "python3",
      "display_name": "Python 3"
    },
    "language_info": {
      "name": "python"
    }
  },
  "cells": [
    {
      "cell_type": "code",
      "execution_count": null,
      "metadata": {
        "id": "cpgVsd07M0J6"
      },
      "outputs": [],
      "source": []
    },
    {
      "cell_type": "markdown",
      "source": [
        "# Import Libaries"
      ],
      "metadata": {
        "id": "dqFm4IImM8Ky"
      }
    },
    {
      "cell_type": "code",
      "source": [
        "import numpy                         as np\n",
        "from sklearn import datasets         as ds\n",
        "from sklearn import tree             as tr\n",
        "from sklearn import metrics          as mt\n",
        "from sklearn import model_selection  as ms\n",
        "from matplotlib import pyplot        as plt"
      ],
      "metadata": {
        "id": "8M1AuBSbNCMB"
      },
      "execution_count": null,
      "outputs": []
    },
    {
      "cell_type": "markdown",
      "source": [
        "#1.0  Treinamento como o Joaquim: O DS novato"
      ],
      "metadata": {
        "id": "02nLIJXhNpCn"
      }
    },
    {
      "cell_type": "markdown",
      "source": [
        "## Dados Sintéticos para produção"
      ],
      "metadata": {
        "id": "C5FXno8_QgQu"
      }
    },
    {
      "cell_type": "markdown",
      "source": [
        "Aqui estamos criando dados sintéticos, para ter um maior controle dos dados e ter um bom aprendizado dos processos de implementação da técnica HOLDOUT. Aqui seria a fase onde teriamos os dados importados de um dataset real."
      ],
      "metadata": {
        "id": "3XNlkyc7hzuI"
      }
    },
    {
      "cell_type": "code",
      "source": [
        "\n",
        "n_samples = 20000\n",
        "n_features = 2\n",
        "n_informative = 2\n",
        "n_redundant = 0\n",
        "random_state = 0"
      ],
      "metadata": {
        "id": "tvfkXVlKNzJP"
      },
      "execution_count": null,
      "outputs": []
    },
    {
      "cell_type": "markdown",
      "source": [
        "## Dados para treinamento"
      ],
      "metadata": {
        "id": "Un_grKLgQkDd"
      }
    },
    {
      "cell_type": "code",
      "source": [
        "\n",
        "X, y = ds.make_classification( n_samples = n_samples,\n",
        "                               n_features = n_features,\n",
        "                               n_informative = n_informative,\n",
        "                               n_redundant = n_redundant,\n",
        "                               random_state = random_state )"
      ],
      "metadata": {
        "id": "KG5CF4OPOH1_"
      },
      "execution_count": null,
      "outputs": []
    },
    {
      "cell_type": "markdown",
      "source": [
        "## Dados para produção"
      ],
      "metadata": {
        "id": "pS8WLOVcQn4I"
      }
    },
    {
      "cell_type": "markdown",
      "source": [
        "Aqui estamos realizando a separação dos dados que irão <b>simular</b> os dados em produção. O pilar principal para técnica HOLDOUT é realizar logo de ínicio uma separação dos dados que irão ser utilizados  como um prova real de acuracia do algoritmo."
      ],
      "metadata": {
        "id": "5LAeiIB2i7bg"
      }
    },
    {
      "cell_type": "code",
      "source": [
        "# Separando 20% dos dados para simulção dos dados de Produção\n",
        "X, x_prod, y, y_prod = ms.train_test_split( X, y, test_size=0.2 )\n",
        "\n",
        "\n",
        "#  X e Y são meus dados de treinamento -> 80% de todo meu dataset\n",
        "#  x_prod e y_prod são meus dados que simulam dados em produção -> 20% de todo meu dataset\n"
      ],
      "metadata": {
        "id": "40VJv3r-OzaQ"
      },
      "execution_count": null,
      "outputs": []
    },
    {
      "cell_type": "markdown",
      "source": [
        "## Não há separação dos dados"
      ],
      "metadata": {
        "id": "MowgE9KWQwmf"
      }
    },
    {
      "cell_type": "markdown",
      "source": [
        "Nessa estapa não separamos os dados para teste, pegamos o algoritmo já treinado e o colocamos para realizar a classificaçã com dados reais.\n",
        "Perceba que a acurácia do modelo deu 100%, MUITO BOM NÃO É MESMO ?"
      ],
      "metadata": {
        "id": "wcIkYpXVpWhp"
      }
    },
    {
      "cell_type": "code",
      "source": [
        "# definição do modelo\n",
        "## Essa etapa estamos realizando o treinamento do nosso modelo com os dados de treinamento ( X e y )\n",
        "\n",
        "model = tr.DecisionTreeClassifier( max_depth=38)\n",
        "model.fit( X, y )\n",
        "\n",
        "#-----------------------------------------------------------------------------------------------------\n",
        "\n",
        "# Classificação sobre os dados de treinamento\n",
        "## Essa etapa estamos fazendo a previsão\n",
        "\n",
        "yhat = model.predict( X ) # Aqui está usando os mesmos dados X que foram usados para treinamento do algoritmo\n",
        "acc = mt.accuracy_score( y, yhat ) # Aqui estamos avaliando a acurácia do modelo onde y é o valor real e yhat é o valor predito.\n",
        "\n",
        "print(f'Acurracy Over training : {acc*100:.2f}%')"
      ],
      "metadata": {
        "colab": {
          "base_uri": "https://localhost:8080/"
        },
        "id": "twRO3og1Qz-B",
        "outputId": "857eae42-1182-4b5b-e5e8-53ee8c1bc921"
      },
      "execution_count": null,
      "outputs": [
        {
          "output_type": "stream",
          "name": "stdout",
          "text": [
            "Acurracy Over training : 100.00%\n"
          ]
        }
      ]
    },
    {
      "cell_type": "markdown",
      "source": [
        "## Publicando o Modelo em Produção"
      ],
      "metadata": {
        "id": "x_iow8XTR_MQ"
      }
    },
    {
      "cell_type": "markdown",
      "source": [
        "Pegando o modelo e colocando em produção perceba que sua acurácia não performou da mesma forma que foi testado, onde sua acurácia deu 100%, aqui o modelo performou 84.72%.  \n",
        "O que aconteceu ?\n",
        "Quando pegamos os dados de treino X , Y e treinamos o modelo e depois testamos o modelo com os mesmos dados. Nosso algoritimo overfita, ou seja, ele decora os dados, por isso ele tem uma acurácia de 100%. E quando ele é colocado a prova com dados em produção, sua performance cai, pois esses dados eram desconhecidos.\n",
        "Para uma cientista de dados esse é um erro GROSSEIRO, que pode gerar um prejuízo muito alto a empresa."
      ],
      "metadata": {
        "id": "0sBwRQFVrAUU"
      }
    },
    {
      "cell_type": "code",
      "source": [
        "yhat_prod = model.predict( x_prod )\n",
        "acc_prod = mt.accuracy_score( y_prod, yhat_prod )\n",
        "\n",
        "print('Acurracy Over training : {:.2f}%'.format( acc_prod*100) )"
      ],
      "metadata": {
        "colab": {
          "base_uri": "https://localhost:8080/"
        },
        "id": "oQHaWmgtSCpE",
        "outputId": "bb4a899b-f329-4ee7-8403-0612ac057eb0"
      },
      "execution_count": null,
      "outputs": [
        {
          "output_type": "stream",
          "name": "stdout",
          "text": [
            "Acurracy Over training : 84.72%\n"
          ]
        }
      ]
    },
    {
      "cell_type": "markdown",
      "source": [
        "## Estratégia Treino-Test"
      ],
      "metadata": {
        "id": "y10RzmXyTcbU"
      }
    },
    {
      "cell_type": "markdown",
      "source": [
        "Percebendo o erro anterior, nessa etapa iremos realizar o treino com os dados X_train e y_train e iremos testar o modelo com dados de test X_test e y_test. Onde pegamos 20% dos dados de treino para teste.\n",
        "Perceba que tivemos uma performance um pouco melhor que a anterior, porque o modelo foi treinado com um conjunto de dados e testado com outro conjunto de dados que ele não foi treinado.  \n",
        "Mas aqui não estamos com os parâmetros adequados para uma boa performance. Na próxima etapa iremos encontrar o melhor parâmetro para o modelo."
      ],
      "metadata": {
        "id": "qSIgolwJs1WD"
      }
    },
    {
      "cell_type": "code",
      "source": [
        "# Separa os dados em Treinamento e Teste\n",
        "X_train, X_test, y_train, y_test = ms.train_test_split( X, y, test_size=0.2, random_state=random_state )\n",
        "\n",
        "# Modelo treinado com os dados de Treinamento\n",
        "model = tr.DecisionTreeClassifier( max_depth=38)\n",
        "model.fit( X_train, y_train )\n",
        "\n",
        "# Classificação sobre os dados de teste\n",
        "yhat_test = model.predict( X_test )\n",
        "acc_test = mt.accuracy_score( y_test, yhat_test)\n",
        "\n",
        "print(f'Acurracy Over Training : {acc_test*100:.2f}%')\n"
      ],
      "metadata": {
        "colab": {
          "base_uri": "https://localhost:8080/"
        },
        "id": "njZn8hpuTiTE",
        "outputId": "2b00e47d-9189-4517-eae2-2da5ab7d0399"
      },
      "execution_count": null,
      "outputs": [
        {
          "output_type": "stream",
          "name": "stdout",
          "text": [
            "Acurracy Over Training : 86.38%\n"
          ]
        }
      ]
    },
    {
      "cell_type": "markdown",
      "source": [
        "## Escolha dos Parâmetros"
      ],
      "metadata": {
        "id": "xwBLdpn8VpxD"
      }
    },
    {
      "cell_type": "markdown",
      "source": [
        "Nas etapas anteriores trabalhos com o valor do parâmetro sem nenhuma atenção, um valor aleatório 38. Esse valor pode não ser o ideal, então vamos encontrar o melhor valor do parâmetro que meu modelo tenha uma boa performance.\n",
        "Vamos encontrar esse valor denro de uma range de 1 a 60. e plotar as performance em um gráfico onde o eixo x do gráfico é minha performance e o y os meus parametros, e com isso encontrar o pico do gráfico que será minha melhor performance e junto o valor do meu parâmetro."
      ],
      "metadata": {
        "id": "-DWGKWStu_NR"
      }
    },
    {
      "cell_type": "code",
      "source": [
        "values = [ i for i in range(1, 60 ) ]\n",
        "\n",
        "test_score = []\n",
        "for i in values:\n",
        "  model = tr.DecisionTreeClassifier( max_depth= i )\n",
        "  model.fit( X_train, y_train )\n",
        "\n",
        "  # classificação sobre o teste\n",
        "  yhat_test = model.predict( X_test )\n",
        "  acc_test = mt.accuracy_score( y_test, yhat_test )\n",
        "  test_score.append( acc_test )\n"
      ],
      "metadata": {
        "id": "XuyQIUeuVr8D"
      },
      "execution_count": null,
      "outputs": []
    },
    {
      "cell_type": "markdown",
      "source": [
        "Nosso melhor Paramnetro é de valor 7, que nos traz uma performance acima de 89%"
      ],
      "metadata": {
        "id": "Ak2B-HlZxN5I"
      }
    },
    {
      "cell_type": "code",
      "source": [
        "plt.plot( values, test_score, '-o', label='Test' );"
      ],
      "metadata": {
        "colab": {
          "base_uri": "https://localhost:8080/",
          "height": 265
        },
        "id": "NFIFbvc0WpR6",
        "outputId": "f3e72241-327c-4004-a175-b05a08daf491"
      },
      "execution_count": null,
      "outputs": [
        {
          "output_type": "display_data",
          "data": {
            "text/plain": [
              "<Figure size 432x288 with 1 Axes>"
            ],
            "image/png": "[encoded data removed]"
          },
          "metadata": {
            "needs_background": "light"
          }
        }
      ]
    },
    {
      "cell_type": "markdown",
      "source": [
        "## Publicação do algoritmo em Produção"
      ],
      "metadata": {
        "id": "5NVn25quXN_S"
      }
    },
    {
      "cell_type": "code",
      "source": [
        "# model treinado\n",
        "model_last = tr.DecisionTreeClassifier( max_depth= 7 )\n",
        "model_last.fit( np.concatenate( ( X_train, X_test ) ),\n",
        "                np.concatenate( ( y_train, y_test ) ) )\n",
        "\n",
        "# Classificação sobre os dados de produção\n",
        "yhat_prod = model_last.predict( x_prod )\n",
        "acc_prod = mt.accuracy_score( y_prod, yhat_prod )\n",
        "\n",
        "print('Acurracy Over Prediction : {:.2f}%'.format( acc_prod*100 ))\n"
      ],
      "metadata": {
        "colab": {
          "base_uri": "https://localhost:8080/"
        },
        "id": "T3qX2zdLXUYC",
        "outputId": "6fcc002c-a319-49ba-82dc-e850728a8a5b"
      },
      "execution_count": null,
      "outputs": [
        {
          "output_type": "stream",
          "name": "stdout",
          "text": [
            "Acurracy Over Prediction : 88.95%\n"
          ]
        }
      ]
    },
    {
      "cell_type": "markdown",
      "source": [
        "# 2.0 Estratégia de Treino-Validação-Test    ( a indicada a se fazer )"
      ],
      "metadata": {
        "id": "pgEYuDN_Z7nB"
      }
    },
    {
      "cell_type": "code",
      "source": [
        "# Separação entre Treino e validação\n",
        "X_train, X_val, y_train, y_val =  ms.train_test_split( X_train, y_train, test_size=0.2 )"
      ],
      "metadata": {
        "id": "K0V4VF60aFF5"
      },
      "execution_count": null,
      "outputs": []
    },
    {
      "cell_type": "code",
      "source": [
        "values = [ i for i in range(1, 60 ) ]\n",
        "\n",
        "val_score = []\n",
        "for i in values:\n",
        "  model = tr.DecisionTreeClassifier( max_depth= i )\n",
        "  model.fit( X_train, y_train )\n",
        "\n",
        "  # classificação sobre a validação\n",
        "  yhat_val = model.predict( X_val )\n",
        "  acc_val = mt.accuracy_score( y_val, yhat_val )\n",
        "  val_score.append( acc_val )\n"
      ],
      "metadata": {
        "id": "2CYj_6Rca7ZI"
      },
      "execution_count": null,
      "outputs": []
    },
    {
      "cell_type": "code",
      "source": [
        "plt.plot( values, val_score, '-o', label='Validacao' );"
      ],
      "metadata": {
        "colab": {
          "base_uri": "https://localhost:8080/",
          "height": 265
        },
        "id": "BwQR3BHNcCnR",
        "outputId": "56bb643b-01d1-4071-82d2-5859897df387"
      },
      "execution_count": null,
      "outputs": [
        {
          "output_type": "display_data",
          "data": {
            "text/plain": [
              "<Figure size 432x288 with 1 Axes>"
            ],
            "image/png": "[encoded data removed]"
          },
          "metadata": {
            "needs_background": "light"
          }
        }
      ]
    },
    {
      "cell_type": "code",
      "source": [
        "# Previsão sobre os dados de Validação\n",
        "model = tr.DecisionTreeClassifier( max_depth= 7 )\n",
        "model.fit( X_train, y_train )\n",
        "\n",
        "yhat_val = model.predict( X_val )\n",
        "acc_val = mt.accuracy_score( y_val, yhat_val )\n",
        "\n",
        "print('Accuracy Over validation : {:.2f}%'.format( acc_val*100 ) )"
      ],
      "metadata": {
        "colab": {
          "base_uri": "https://localhost:8080/"
        },
        "id": "FoIBY86gcRB3",
        "outputId": "fc3ae7ba-d807-42d8-f4f4-09441b587a26"
      },
      "execution_count": null,
      "outputs": [
        {
          "output_type": "stream",
          "name": "stdout",
          "text": [
            "Accuracy Over validation : 89.34%\n"
          ]
        }
      ]
    },
    {
      "cell_type": "code",
      "source": [
        "# Modelo Treinado  sobre Training + validation\n",
        "model_last = tr.DecisionTreeClassifier( max_depth=7 )\n",
        "model_last.fit( np.concatenate( (X_train, X_val ) ),\n",
        "                np.concatenate( (y_train, y_val ) ) )\n",
        "\n",
        "# clasificação sobre os dados de teste\n",
        "yhat_test = model_last.predict( X_test )\n",
        "acc_test - mt.accuracy_score( y_test, yhat_test )\n",
        "\n",
        "print('Accuracy Over Test : {:.2f}'.format( acc_test*100))"
      ],
      "metadata": {
        "colab": {
          "base_uri": "https://localhost:8080/"
        },
        "id": "HfMxsdzxdkeP",
        "outputId": "ad7af0b5-3f65-44f3-828d-d8feb3cfb7f5"
      },
      "execution_count": null,
      "outputs": [
        {
          "output_type": "stream",
          "name": "stdout",
          "text": [
            "Accuracy Over Test : 84.81\n"
          ]
        }
      ]
    },
    {
      "cell_type": "code",
      "source": [
        "# clasificação sobre os dados de teste\n",
        "yhat_prod = model_last.predict( x_prod )\n",
        "acc_prod = mt.accuracy_score( y_prod, yhat_prod )\n",
        "\n",
        "print('Accuracy Over Test : {:.2f}'.format( acc_prod*100))"
      ],
      "metadata": {
        "colab": {
          "base_uri": "https://localhost:8080/"
        },
        "id": "DzC3s6Axe6Fa",
        "outputId": "e5671e14-5f2b-4533-e7b2-f56d0ba2799d"
      },
      "execution_count": null,
      "outputs": [
        {
          "output_type": "stream",
          "name": "stdout",
          "text": [
            "Accuracy Over Test : 88.42\n"
          ]
        }
      ]
    },
    {
      "cell_type": "code",
      "source": [],
      "metadata": {
        "id": "7kcqY8Y_fiFG"
      },
      "execution_count": null,
      "outputs": []
    }
  ]
}